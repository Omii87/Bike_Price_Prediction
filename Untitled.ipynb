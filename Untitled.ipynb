{
 "cells": [
  {
   "cell_type": "code",
   "execution_count": 1,
   "id": "76878e48",
   "metadata": {},
   "outputs": [
    {
     "ename": "ValueError",
     "evalue": "could not convert string to float: '.20.99'",
     "output_type": "error",
     "traceback": [
      "\u001b[1;31m---------------------------------------------------------------------------\u001b[0m",
      "\u001b[1;31mValueError\u001b[0m                                Traceback (most recent call last)",
      "Cell \u001b[1;32mIn[1], line 48\u001b[0m\n\u001b[0;32m     45\u001b[0m     \u001b[38;5;28;01mreturn\u001b[39;00m \u001b[38;5;28mfloat\u001b[39m(value)\n\u001b[0;32m     47\u001b[0m \u001b[38;5;66;03m# Clean and convert each value in the dataset\u001b[39;00m\n\u001b[1;32m---> 48\u001b[0m cleaned_data \u001b[38;5;241m=\u001b[39m [clean_numerical_value(value) \u001b[38;5;28;01mfor\u001b[39;00m value \u001b[38;5;129;01min\u001b[39;00m data]\n\u001b[0;32m     50\u001b[0m \u001b[38;5;66;03m# Print the cleaned data\u001b[39;00m\n\u001b[0;32m     51\u001b[0m \u001b[38;5;28mprint\u001b[39m(cleaned_data)\n",
      "Cell \u001b[1;32mIn[1], line 48\u001b[0m, in \u001b[0;36m<listcomp>\u001b[1;34m(.0)\u001b[0m\n\u001b[0;32m     45\u001b[0m     \u001b[38;5;28;01mreturn\u001b[39;00m \u001b[38;5;28mfloat\u001b[39m(value)\n\u001b[0;32m     47\u001b[0m \u001b[38;5;66;03m# Clean and convert each value in the dataset\u001b[39;00m\n\u001b[1;32m---> 48\u001b[0m cleaned_data \u001b[38;5;241m=\u001b[39m [\u001b[43mclean_numerical_value\u001b[49m\u001b[43m(\u001b[49m\u001b[43mvalue\u001b[49m\u001b[43m)\u001b[49m \u001b[38;5;28;01mfor\u001b[39;00m value \u001b[38;5;129;01min\u001b[39;00m data]\n\u001b[0;32m     50\u001b[0m \u001b[38;5;66;03m# Print the cleaned data\u001b[39;00m\n\u001b[0;32m     51\u001b[0m \u001b[38;5;28mprint\u001b[39m(cleaned_data)\n",
      "Cell \u001b[1;32mIn[1], line 45\u001b[0m, in \u001b[0;36mclean_numerical_value\u001b[1;34m(value)\u001b[0m\n\u001b[0;32m     42\u001b[0m \u001b[38;5;28;01mif\u001b[39;00m \u001b[38;5;124m'\u001b[39m\u001b[38;5;124mrs.\u001b[39m\u001b[38;5;124m'\u001b[39m \u001b[38;5;129;01min\u001b[39;00m value\u001b[38;5;241m.\u001b[39mlower() \u001b[38;5;129;01mor\u001b[39;00m \u001b[38;5;124m'\u001b[39m\u001b[38;5;124m₹\u001b[39m\u001b[38;5;124m'\u001b[39m \u001b[38;5;129;01min\u001b[39;00m value:\n\u001b[0;32m     43\u001b[0m     value \u001b[38;5;241m=\u001b[39m re\u001b[38;5;241m.\u001b[39msub(\u001b[38;5;124mr\u001b[39m\u001b[38;5;124m'\u001b[39m\u001b[38;5;124m[^\u001b[39m\u001b[38;5;124m\\\u001b[39m\u001b[38;5;124md.]\u001b[39m\u001b[38;5;124m'\u001b[39m, \u001b[38;5;124m'\u001b[39m\u001b[38;5;124m'\u001b[39m, value)\n\u001b[1;32m---> 45\u001b[0m \u001b[38;5;28;01mreturn\u001b[39;00m \u001b[38;5;28;43mfloat\u001b[39;49m\u001b[43m(\u001b[49m\u001b[43mvalue\u001b[49m\u001b[43m)\u001b[49m\n",
      "\u001b[1;31mValueError\u001b[0m: could not convert string to float: '.20.99'"
     ]
    }
   ],
   "source": [
    "import re\n",
    "\n",
    "data = [\n",
    "    '40,49,000', '37,49,000', '24,49,000', '20,49,000', '26,59,000',\n",
    "    '1,45,000', '1,85,000', '1,65,000', '65,000', '62,000', '3,35,000',\n",
    "    '6,50,000', '7,50,000', '22,999', '23,999', '25,999', '19,999',\n",
    "    '14,999', '3.43 Lakh', '5.19 Lakh', '6.65 Lakh', '9.11 Lakh',\n",
    "    '23.02 Lakh', '6.95 Lakh', '1.78 Lakh', '1.92 Lakh', '2.20 Lakh',\n",
    "    '3.10 Lakh', '2.05 Lakh', '3.30 Lakh', '3.60 Lakh', '5.50 Lakh',\n",
    "    '75,000', '1,50,000', '1,60,000', 'Rs. 1,05,000', 'Rs. 1,50,000',\n",
    "    'Rs. 2,00,000', 'Rs. 2,50,000', '₹ 80,000 - ₹ 90,000',\n",
    "    '₹ 1,00,000 - ₹ 1,30,000', '₹ 50,000 - ₹ 60,000',\n",
    "    '₹ 70,000 - ₹ 80,000', '₹ 1,00,000 - ₹ 1,20,000', 'Rs. 2,08,000',\n",
    "    'Rs. 1,28,990', 'Rs. 69,990', 'Rs. 54,990', 'Rs. 54,095',\n",
    "    '15.40 lakh', '13.6 lakh', '13.3 lakh', '14.8 lakh', '17.5 lakh',\n",
    "    '24.9 lakh', '18.9 lakhs', '25.4 lakhs', '22.8 lakhs',\n",
    "    '21.1 lakhs', '20.7 lakhs', 'Rs. 20.99 lakh', 'Rs. 32.99 lakh',\n",
    "    'Rs. 35.99 lakh', 'Rs. 1.25 lakh', 'Rs. 1.55 lakh',\n",
    "    'Rs. 3.15 lakh', 'Rs. 1.15 lakh', 'Rs. 2.15 lakh', 'Rs. 1.47 lakh',\n",
    "    'Rs. 1.97 lakh', 'Rs. 1.65 lakh', 'Rs. 2.20 lakh', 'Rs. 2.79 lakh',\n",
    "    'Rs. 2.99 lakh', 'INR 3,49,000 - 3,79,000',\n",
    "    '₹1.69 lakh - ₹1.89 lakh', '₹1.39 lakh - ₹1.59 lakh',\n",
    "    '₹1.15 lakh - ₹1.25 lakh', '₹67,500'\n",
    "]\n",
    "\n",
    "# Function to clean and convert values to numerical format\n",
    "def clean_numerical_value(value):\n",
    "    # Remove commas and extra spaces\n",
    "    value = re.sub(r'[^\\d.]', '', value)\n",
    "\n",
    "    # Convert lakh notation to million\n",
    "    if 'lakh' in value.lower():\n",
    "        value = re.sub(r'[^\\d.]', '', value)\n",
    "        value = float(value) * 10 ** 5\n",
    "\n",
    "    # Convert lakh/crore notation to million/billion\n",
    "    if 'lakh' in value.lower() or 'crore' in value.lower():\n",
    "        value = re.sub(r'[^\\d.]', '', value)\n",
    "        value = float(value) * 10 ** 5\n",
    "\n",
    "    # Convert currency notation to numerical value\n",
    "    if 'rs.' in value.lower() or '₹' in value:\n",
    "        value = re.sub(r'[^\\d.]', '', value)\n",
    "\n",
    "    return float(value)\n",
    "\n",
    "# Clean and convert each value in the dataset\n",
    "cleaned_data = [clean_numerical_value(value) for value in data]\n",
    "\n",
    "# Print the cleaned data\n",
    "print(cleaned_data)\n"
   ]
  },
  {
   "cell_type": "code",
   "execution_count": null,
   "id": "d3041bd5",
   "metadata": {},
   "outputs": [],
   "source": []
  }
 ],
 "metadata": {
  "kernelspec": {
   "display_name": "Python 3 (ipykernel)",
   "language": "python",
   "name": "python3"
  },
  "language_info": {
   "codemirror_mode": {
    "name": "ipython",
    "version": 3
   },
   "file_extension": ".py",
   "mimetype": "text/x-python",
   "name": "python",
   "nbconvert_exporter": "python",
   "pygments_lexer": "ipython3",
   "version": "3.9.0"
  }
 },
 "nbformat": 4,
 "nbformat_minor": 5
}
